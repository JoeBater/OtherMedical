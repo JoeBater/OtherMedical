{
 "cells": [
  {
   "cell_type": "markdown",
   "metadata": {},
   "source": [
    "# HIV-1 Protease Cleavage"
   ]
  },
  {
   "cell_type": "code",
   "execution_count": 48,
   "metadata": {},
   "outputs": [],
   "source": [
    "import pandas as pd\n",
    "import numpy as np\n",
    "from sklearn.model_selection import train_test_split\n",
    "from sklearn.svm import SVC\n",
    "from sklearn.metrics import accuracy_score"
   ]
  },
  {
   "cell_type": "markdown",
   "metadata": {},
   "source": [
    "Data from UCI ML repository\n",
    "\n",
    "https://archive.ics.uci.edu/ml/datasets/HIV-1+protease+cleavage"
   ]
  },
  {
   "cell_type": "code",
   "execution_count": 49,
   "metadata": {},
   "outputs": [],
   "source": [
    "filename = r'C:\\Users\\user\\ML\\HIV_protease\\hiv+1+protease+cleavage\\746Data.txt'\n",
    "\n",
    "data = pd.read_csv(filename, header=None)\n",
    "data.columns = ['protease', 'label']"
   ]
  },
  {
   "cell_type": "markdown",
   "metadata": {},
   "source": [
    "Encode the acids into octomers"
   ]
  },
  {
   "cell_type": "code",
   "execution_count": 50,
   "metadata": {},
   "outputs": [],
   "source": [
    "def encode_acid(a):\n",
    "    \"\"\" encode alphabetic amino acid string into binary 20-ary string\n",
    "    \"\"\"\n",
    "    alphabet = 'ARNDCQEGHILKMFPSTWYV'\n",
    "    result = []\n",
    "    for i in range(len(a)):\n",
    "        for j in range(len(alphabet)):\n",
    "            if alphabet[j] == a[i]:\n",
    "                result.append(1)\n",
    "            else:\n",
    "                result.append(-1)\n",
    "    \n",
    "    return result\n",
    "\n",
    "data['encoding'] = data['protease'].apply(encode_acid)"
   ]
  },
  {
   "cell_type": "markdown",
   "metadata": {},
   "source": [
    "Prep the data to train and test"
   ]
  },
  {
   "cell_type": "code",
   "execution_count": 51,
   "metadata": {},
   "outputs": [
    {
     "name": "stdout",
     "output_type": "stream",
     "text": [
      "(559, 160) (559,) (187, 160) (187,)\n",
      "In the training set there are *302* samples that cleave, and *257* which do not\n",
      "In the test set there are *100* samples that cleave, and *87* which do not\n"
     ]
    }
   ],
   "source": [
    "X = np.vstack(data['encoding'].values)\n",
    "y = data['label'].values\n",
    "\n",
    "X_train, X_test, y_train, y_test = train_test_split(X, y, random_state=42)\n",
    "\n",
    "print(X_train.shape, y_train.shape, X_test.shape, y_test.shape)\n",
    "print(f'In the training set there are *{np.sum(y_train==1)}* samples that cleave, and *{np.sum(y_train==-1)}* which do not')\n",
    "print(f'In the test set there are *{np.sum(y_test==1)}* samples that cleave, and *{np.sum(y_test==-1)}* which do not')"
   ]
  },
  {
   "cell_type": "markdown",
   "metadata": {},
   "source": [
    "Push to an SVM"
   ]
  },
  {
   "cell_type": "code",
   "execution_count": 52,
   "metadata": {},
   "outputs": [
    {
     "data": {
      "text/plain": [
       "array([-1,  1,  1, -1,  1, -1, -1, -1,  1,  1,  1,  1, -1,  1,  1,  1,  1,\n",
       "        1,  1, -1,  1,  1,  1,  1, -1, -1,  1,  1,  1, -1, -1,  1,  1,  1,\n",
       "        1,  1,  1, -1, -1,  1,  1, -1,  1,  1,  1,  1,  1, -1, -1,  1,  1,\n",
       "        1, -1, -1, -1, -1, -1,  1, -1,  1, -1, -1, -1,  1, -1,  1, -1, -1,\n",
       "        1, -1, -1, -1, -1,  1,  1,  1, -1, -1,  1,  1, -1,  1,  1,  1, -1,\n",
       "       -1,  1, -1,  1,  1, -1, -1,  1, -1,  1, -1, -1,  1, -1, -1, -1, -1,\n",
       "        1,  1, -1, -1, -1, -1, -1,  1,  1,  1, -1,  1, -1,  1,  1,  1,  1,\n",
       "       -1,  1, -1,  1, -1,  1,  1, -1, -1, -1,  1,  1,  1,  1, -1, -1, -1,\n",
       "        1,  1, -1, -1,  1,  1,  1, -1,  1,  1,  1, -1, -1,  1,  1, -1, -1,\n",
       "       -1, -1, -1,  1, -1,  1,  1, -1, -1, -1, -1,  1,  1, -1, -1, -1, -1,\n",
       "        1, -1, -1,  1, -1,  1, -1, -1,  1, -1, -1,  1,  1,  1, -1, -1, -1],\n",
       "      dtype=int64)"
      ]
     },
     "execution_count": 52,
     "metadata": {},
     "output_type": "execute_result"
    }
   ],
   "source": [
    "svc = SVC(kernel='rbf', gamma=0.1)\n",
    "svc.fit(X_train, y_train)\n",
    "\n",
    "y_pred = svc.predict(X_test)\n",
    "y_pred"
   ]
  },
  {
   "cell_type": "code",
   "execution_count": 53,
   "metadata": {},
   "outputs": [
    {
     "data": {
      "text/plain": [
       "0.8983957219251337"
      ]
     },
     "execution_count": 53,
     "metadata": {},
     "output_type": "execute_result"
    }
   ],
   "source": [
    "accuracy_score(y_test, y_pred)"
   ]
  },
  {
   "cell_type": "code",
   "execution_count": null,
   "metadata": {},
   "outputs": [],
   "source": []
  }
 ],
 "metadata": {
  "kernelspec": {
   "display_name": "Python 3 (ipykernel)",
   "language": "python",
   "name": "python3"
  },
  "language_info": {
   "codemirror_mode": {
    "name": "ipython",
    "version": 3
   },
   "file_extension": ".py",
   "mimetype": "text/x-python",
   "name": "python",
   "nbconvert_exporter": "python",
   "pygments_lexer": "ipython3",
   "version": "3.10.11"
  }
 },
 "nbformat": 4,
 "nbformat_minor": 2
}
