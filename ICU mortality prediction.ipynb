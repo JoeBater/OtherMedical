{
 "cells": [
  {
   "cell_type": "markdown",
   "metadata": {},
   "source": [
    "# ICU motality prediction - Udemy\n",
    "\n",
    "https://www.udemy.com/course/data-science-in-healthcare/"
   ]
  },
  {
   "cell_type": "code",
   "execution_count": 1,
   "metadata": {},
   "outputs": [
    {
     "name": "stderr",
     "output_type": "stream",
     "text": [
      "Using TensorFlow backend.\n"
     ]
    }
   ],
   "source": [
    "import pandas as pd\n",
    "import numpy as np\n",
    "import math\n",
    "from sklearn.metrics import accuracy_score\n",
    "\n",
    "from sklearn.model_selection import train_test_split\n",
    "from sklearn.preprocessing import MinMaxScaler\n",
    "import keras\n",
    "\n",
    "import matplotlib.pyplot as plt\n",
    "import seaborn as sns\n",
    "\n",
    "%matplotlib inline"
   ]
  },
  {
   "cell_type": "code",
   "execution_count": 20,
   "metadata": {},
   "outputs": [],
   "source": [
    "df = pd.read_csv('C:/Users/joeba/OneDrive/Documents/ML/icu mortality prediction/train.csv', encoding='utf-8')\n",
    "labels = pd.read_csv('C:/Users/joeba/OneDrive/Documents/ML/icu mortality prediction/labels.csv', encoding='utf-8')"
   ]
  },
  {
   "cell_type": "code",
   "execution_count": 21,
   "metadata": {},
   "outputs": [
    {
     "name": "stdout",
     "output_type": "stream",
     "text": [
      "     ALP   ALT    AST  Age   Albumin        BUN  Bilirubin  Cholesterol  \\\n",
      "0   77.0  31.0   46.0   54  2.973333  10.500000        0.7        154.0   \n",
      "1   77.0  31.0   46.0   76  2.973333  18.333333        0.7        154.0   \n",
      "2  116.0  83.0  199.5   44  2.500000   4.666667        2.9        154.0   \n",
      "3  105.0  12.0   15.0   68  4.400000  17.666667        0.2        154.0   \n",
      "4   77.0  31.0   46.0   88  3.300000  35.000000        0.7        154.0   \n",
      "\n",
      "   Creatinine    DiasABP  ...   RespRate       SaO2      SysABP       Temp  \\\n",
      "0    0.750000  58.795833  ...  17.428571  97.250000  116.891892  37.357143   \n",
      "1    1.100000  58.897059  ...  19.000000  96.833333  113.411765  36.939130   \n",
      "2    0.333333  67.125000  ...  19.000000  95.000000  125.687500  37.800000   \n",
      "3    0.766667  58.795833  ...  15.457627  97.250000  116.891892  36.223077   \n",
      "4    1.000000  58.795833  ...  19.166667  97.250000  116.891892  36.880000   \n",
      "\n",
      "   TroponinI  TroponinT       Urine        WBC     Weight        pH  \n",
      "0        2.1       0.14  171.052632  10.300000  80.060976  7.387273  \n",
      "1        2.1       0.14  151.560976  11.266667  80.670588  7.395000  \n",
      "2        2.1       0.14  124.951220   4.700000  56.700000  7.495000  \n",
      "3        2.1       0.14  545.833333   9.400000  84.600000  7.387273  \n",
      "4        2.1       0.14   62.131579   4.300000  80.060976  7.387273  \n",
      "\n",
      "[5 rows x 42 columns]\n",
      "(3999, 42)\n"
     ]
    }
   ],
   "source": [
    "print(df.head())\n",
    "print(df.shape)"
   ]
  },
  {
   "cell_type": "code",
   "execution_count": 22,
   "metadata": {},
   "outputs": [],
   "source": [
    "#df = pd.concat([df, labels], axis=1)"
   ]
  },
  {
   "cell_type": "code",
   "execution_count": 23,
   "metadata": {},
   "outputs": [],
   "source": [
    "scaler = MinMaxScaler(feature_range=(0, 1))\n",
    "df = scaler.fit_transform(df)"
   ]
  },
  {
   "cell_type": "code",
   "execution_count": 24,
   "metadata": {},
   "outputs": [],
   "source": [
    "# one hot encode the labels\n",
    "y = []\n",
    "for i in labels['In-hospital_death']:\n",
    "    if i == 0:\n",
    "        y.append([1,0])\n",
    "    else:\n",
    "        y.append([0,1])\n",
    "y = np.array(y)"
   ]
  },
  {
   "cell_type": "code",
   "execution_count": 25,
   "metadata": {},
   "outputs": [],
   "source": [
    "X_train, X_test, y_train, y_test = train_test_split(df, y, test_size=0.2)"
   ]
  },
  {
   "cell_type": "code",
   "execution_count": 26,
   "metadata": {},
   "outputs": [
    {
     "name": "stdout",
     "output_type": "stream",
     "text": [
      "(3199, 42) (3199, 2) (800, 42) (800, 2)\n"
     ]
    }
   ],
   "source": [
    "print(X_train.shape, y_train.shape, X_test.shape, y_test.shape)"
   ]
  },
  {
   "cell_type": "code",
   "execution_count": 27,
   "metadata": {},
   "outputs": [],
   "source": [
    "from keras.models import Sequential\n",
    "from keras.layers import Dense, Dropout, BatchNormalization\n",
    "from keras.utils import np_utils\n",
    "from keras.optimizers import RMSprop, Adam"
   ]
  },
  {
   "cell_type": "code",
   "execution_count": 33,
   "metadata": {},
   "outputs": [
    {
     "name": "stdout",
     "output_type": "stream",
     "text": [
      "_________________________________________________________________\n",
      "Layer (type)                 Output Shape              Param #   \n",
      "=================================================================\n",
      "dense_23 (Dense)             (None, 64)                2752      \n",
      "_________________________________________________________________\n",
      "dense_24 (Dense)             (None, 64)                4160      \n",
      "_________________________________________________________________\n",
      "dense_25 (Dense)             (None, 64)                4160      \n",
      "_________________________________________________________________\n",
      "dense_26 (Dense)             (None, 64)                4160      \n",
      "_________________________________________________________________\n",
      "batch_normalization_4 (Batch (None, 64)                256       \n",
      "_________________________________________________________________\n",
      "dense_27 (Dense)             (None, 64)                4160      \n",
      "_________________________________________________________________\n",
      "dense_28 (Dense)             (None, 2)                 130       \n",
      "=================================================================\n",
      "Total params: 19,778\n",
      "Trainable params: 19,650\n",
      "Non-trainable params: 128\n",
      "_________________________________________________________________\n",
      "None\n"
     ]
    }
   ],
   "source": [
    "model = Sequential()\n",
    "\n",
    "model.add(Dense(64, input_dim=X_train.shape[1], activation='relu'))\n",
    "model.add(Dense(64, activation='relu'))\n",
    "model.add(Dense(64, activation='relu'))\n",
    "model.add(Dense(64, activation='relu'))\n",
    "\n",
    "model.add(BatchNormalization())\n",
    "\n",
    "model.add(Dense(64, activation='relu'))\n",
    "model.add(Dense(2, activation='sigmoid'))\n",
    "\n",
    "model.compile(optimizer = Adam(lr=0.0005), loss='binary_crossentropy', metrics=['accuracy'])\n",
    "print(model.summary())"
   ]
  },
  {
   "cell_type": "code",
   "execution_count": 34,
   "metadata": {},
   "outputs": [
    {
     "name": "stdout",
     "output_type": "stream",
     "text": [
      "WARNING:tensorflow:From C:\\Users\\joeba\\Anaconda3\\lib\\site-packages\\keras\\backend\\tensorflow_backend.py:986: The name tf.assign_add is deprecated. Please use tf.compat.v1.assign_add instead.\n",
      "\n",
      "WARNING:tensorflow:From C:\\Users\\joeba\\Anaconda3\\lib\\site-packages\\keras\\backend\\tensorflow_backend.py:973: The name tf.assign is deprecated. Please use tf.compat.v1.assign instead.\n",
      "\n",
      "WARNING:tensorflow:From C:\\Users\\joeba\\Anaconda3\\lib\\site-packages\\keras\\backend\\tensorflow_backend.py:2741: The name tf.Session is deprecated. Please use tf.compat.v1.Session instead.\n",
      "\n",
      "Train on 3199 samples, validate on 800 samples\n",
      "Epoch 1/15\n",
      "WARNING:tensorflow:From C:\\Users\\joeba\\Anaconda3\\lib\\site-packages\\keras\\backend\\tensorflow_backend.py:174: The name tf.get_default_session is deprecated. Please use tf.compat.v1.get_default_session instead.\n",
      "\n",
      "WARNING:tensorflow:From C:\\Users\\joeba\\Anaconda3\\lib\\site-packages\\keras\\backend\\tensorflow_backend.py:181: The name tf.ConfigProto is deprecated. Please use tf.compat.v1.ConfigProto instead.\n",
      "\n",
      "WARNING:tensorflow:From C:\\Users\\joeba\\Anaconda3\\lib\\site-packages\\keras\\backend\\tensorflow_backend.py:190: The name tf.global_variables is deprecated. Please use tf.compat.v1.global_variables instead.\n",
      "\n",
      "WARNING:tensorflow:From C:\\Users\\joeba\\Anaconda3\\lib\\site-packages\\keras\\backend\\tensorflow_backend.py:199: The name tf.is_variable_initialized is deprecated. Please use tf.compat.v1.is_variable_initialized instead.\n",
      "\n",
      "WARNING:tensorflow:From C:\\Users\\joeba\\Anaconda3\\lib\\site-packages\\keras\\backend\\tensorflow_backend.py:206: The name tf.variables_initializer is deprecated. Please use tf.compat.v1.variables_initializer instead.\n",
      "\n",
      "3199/3199 [==============================] - 7s 2ms/step - loss: 0.6843 - acc: 0.5883 - val_loss: 0.5817 - val_acc: 0.7594\n",
      "Epoch 2/15\n",
      "3199/3199 [==============================] - 0s 133us/step - loss: 0.5040 - acc: 0.8217 - val_loss: 0.4379 - val_acc: 0.8381\n",
      "Epoch 3/15\n",
      "3199/3199 [==============================] - 1s 168us/step - loss: 0.3920 - acc: 0.8629 - val_loss: 0.3592 - val_acc: 0.8719\n",
      "Epoch 4/15\n",
      "3199/3199 [==============================] - 0s 127us/step - loss: 0.3497 - acc: 0.8650 - val_loss: 0.3535 - val_acc: 0.8500\n",
      "Epoch 5/15\n",
      "3199/3199 [==============================] - 0s 131us/step - loss: 0.3318 - acc: 0.8681 - val_loss: 0.3464 - val_acc: 0.8650\n",
      "Epoch 6/15\n",
      "3199/3199 [==============================] - 1s 159us/step - loss: 0.3290 - acc: 0.8673 - val_loss: 0.3281 - val_acc: 0.8688\n",
      "Epoch 7/15\n",
      "3199/3199 [==============================] - 0s 104us/step - loss: 0.3267 - acc: 0.8723 - val_loss: 0.3542 - val_acc: 0.8581\n",
      "Epoch 8/15\n",
      "3199/3199 [==============================] - 1s 170us/step - loss: 0.3116 - acc: 0.8739 - val_loss: 0.3209 - val_acc: 0.8750\n",
      "Epoch 9/15\n",
      "3199/3199 [==============================] - 0s 112us/step - loss: 0.3106 - acc: 0.8746 - val_loss: 0.3599 - val_acc: 0.8544\n",
      "Epoch 10/15\n",
      "3199/3199 [==============================] - 0s 114us/step - loss: 0.3057 - acc: 0.8764 - val_loss: 0.3664 - val_acc: 0.8400\n",
      "Epoch 11/15\n",
      "3199/3199 [==============================] - 0s 119us/step - loss: 0.3055 - acc: 0.8743 - val_loss: 0.3567 - val_acc: 0.8531\n",
      "Epoch 12/15\n",
      "3199/3199 [==============================] - 0s 107us/step - loss: 0.2959 - acc: 0.8789 - val_loss: 0.3264 - val_acc: 0.8756\n",
      "Epoch 13/15\n",
      "3199/3199 [==============================] - 0s 132us/step - loss: 0.2934 - acc: 0.8759 - val_loss: 0.3392 - val_acc: 0.8706\n",
      "Epoch 14/15\n",
      "3199/3199 [==============================] - 0s 132us/step - loss: 0.2917 - acc: 0.8800 - val_loss: 0.3410 - val_acc: 0.8712\n",
      "Epoch 15/15\n",
      "3199/3199 [==============================] - 0s 134us/step - loss: 0.2874 - acc: 0.8812 - val_loss: 0.3226 - val_acc: 0.8775\n"
     ]
    }
   ],
   "source": [
    "history = model.fit(X_train, y_train, epochs=15, batch_size=128, validation_data=(X_test, y_test))"
   ]
  },
  {
   "cell_type": "code",
   "execution_count": 35,
   "metadata": {},
   "outputs": [
    {
     "name": "stdout",
     "output_type": "stream",
     "text": [
      "dict_keys(['val_loss', 'val_acc', 'loss', 'acc'])\n"
     ]
    }
   ],
   "source": [
    "print(history.history.keys())"
   ]
  },
  {
   "cell_type": "code",
   "execution_count": 39,
   "metadata": {},
   "outputs": [
    {
     "data": {
      "image/png": "[encoded data removed]",
      "text/plain": [
       "<Figure size 432x288 with 1 Axes>"
      ]
     },
     "metadata": {
      "needs_background": "light"
     },
     "output_type": "display_data"
    }
   ],
   "source": [
    "plt.plot(history.history['acc'])\n",
    "plt.plot(history.history['val_acc'])\n",
    "plt.title('model accuracy')\n",
    "plt.ylabel('accuracy')\n",
    "plt.xlabel('epoch')\n",
    "plt.legend(['train', 'test'], loc='upper left')\n",
    "plt.show()"
   ]
  },
  {
   "cell_type": "code",
   "execution_count": 40,
   "metadata": {},
   "outputs": [
    {
     "data": {
      "image/png": "[encoded data removed]",
      "text/plain": [
       "<Figure size 432x288 with 1 Axes>"
      ]
     },
     "metadata": {
      "needs_background": "light"
     },
     "output_type": "display_data"
    }
   ],
   "source": [
    "plt.plot(history.history['loss'])\n",
    "plt.plot(history.history['val_loss'])\n",
    "plt.title('model loss')\n",
    "plt.ylabel('loss')\n",
    "plt.xlabel('epoch')\n",
    "plt.legend(['train', 'test'], loc='upper left')\n",
    "plt.show()"
   ]
  },
  {
   "cell_type": "code",
   "execution_count": 41,
   "metadata": {},
   "outputs": [],
   "source": [
    "from sklearn.metrics import confusion_matrix\n",
    "pred = model.predict(X_test)\n",
    "pred = np.argmax(pred, axis=1)\n",
    "y_true = np.argmax(y_test, axis=1)"
   ]
  },
  {
   "cell_type": "code",
   "execution_count": 43,
   "metadata": {},
   "outputs": [
    {
     "name": "stdout",
     "output_type": "stream",
     "text": [
      "0.87625\n"
     ]
    }
   ],
   "source": [
    "print(accuracy_score(y_true, pred))"
   ]
  },
  {
   "cell_type": "code",
   "execution_count": 51,
   "metadata": {},
   "outputs": [
    {
     "name": "stdout",
     "output_type": "stream",
     "text": [
      "681 21 78 20\n"
     ]
    }
   ],
   "source": [
    "tn, fp, fn, tp = confusion_matrix(y_true, pred).ravel()\n",
    "print(tn, fp, fn, tp)"
   ]
  },
  {
   "cell_type": "code",
   "execution_count": 52,
   "metadata": {},
   "outputs": [
    {
     "data": {
      "text/plain": [
       "0.87625"
      ]
     },
     "execution_count": 52,
     "metadata": {},
     "output_type": "execute_result"
    }
   ],
   "source": [
    "acc = (tn+tp) / (tn+fp+fn+tp)\n",
    "acc"
   ]
  },
  {
   "cell_type": "code",
   "execution_count": null,
   "metadata": {},
   "outputs": [],
   "source": []
  }
 ],
 "metadata": {
  "kernelspec": {
   "display_name": "Python 3",
   "language": "python",
   "name": "python3"
  },
  "language_info": {
   "codemirror_mode": {
    "name": "ipython",
    "version": 3
   },
   "file_extension": ".py",
   "mimetype": "text/x-python",
   "name": "python",
   "nbconvert_exporter": "python",
   "pygments_lexer": "ipython3",
   "version": "3.7.4"
  }
 },
 "nbformat": 4,
 "nbformat_minor": 2
}
